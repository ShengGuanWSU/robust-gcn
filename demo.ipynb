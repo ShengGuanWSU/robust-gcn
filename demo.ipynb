{
 "cells": [
  {
   "cell_type": "code",
   "execution_count": 1,
   "metadata": {},
   "outputs": [],
   "source": [
    "import numpy as np\n",
    "import torch\n",
    "from robust_gcn.robust_gcn import RobustGCNModel, train, certify, sparse_tensor\n",
    "from robust_gcn.utils import train_val_test_split_tabular, load_npz\n",
    "from matplotlib import pyplot as plt"
   ]
  },
  {
   "cell_type": "markdown",
   "metadata": {},
   "source": [
    "### Data loading"
   ]
  },
  {
   "cell_type": "code",
   "execution_count": 2,
   "metadata": {},
   "outputs": [],
   "source": [
    "A, X, z = load_npz(\"data/citeseer.npz\")\n",
    "\n",
    "A = (A + A.T > 0).astype(\"float32\")  # make undirected\n",
    "X = (X > 0).astype(\"float32\")  # binarize node attributes\n",
    "K = z.max()+1\n",
    "N,D = X.shape\n",
    "\n",
    "X_t = sparse_tensor(X).cuda()\n",
    "y_t = torch.tensor(z.astype(\"int64\"), device=\"cuda\")"
   ]
  },
  {
   "cell_type": "markdown",
   "metadata": {},
   "source": [
    "### Hyperparameters\n",
    "\n",
    "Larger batch sizes mean more GPU memory is required.   \n",
    "We trained on NVIDIA 1080 Ti and recommend the following batch sizes to avoid out of memory errors:\n",
    "* Citeseer, Cora-ML: `8`\n",
    "* PubMed: `6`\n",
    "\n",
    "We simulate larger batch sizes during training by storing the gradients of several mini-batches before updating.   \n",
    "If you encounter out-of-memory errors, reduce the batch size and restart."
   ]
  },
  {
   "cell_type": "code",
   "execution_count": 3,
   "metadata": {},
   "outputs": [],
   "source": [
    "hidden_sizes = [32, K]\n",
    "q = int(0.01*D)\n",
    "Q=12\n",
    "batch_size = 8"
   ]
  },
  {
   "cell_type": "markdown",
   "metadata": {},
   "source": [
    "### Data splitting"
   ]
  },
  {
   "cell_type": "code",
   "execution_count": 4,
   "metadata": {},
   "outputs": [],
   "source": [
    "idx_train, idx_val, idx_test = train_val_test_split_tabular(np.arange(N),\n",
    "                                                            train_size=0.1, val_size=0.1, test_size=0.8,\n",
    "                                                            stratify=z, random_state=123)\n",
    "\n",
    "idx_unlabeled = np.union1d(idx_val, idx_test)"
   ]
  },
  {
   "cell_type": "markdown",
   "metadata": {},
   "source": [
    "### Model creation\n",
    "\n",
    "We create two GCN models; `gcn_model_normal` will be trained traditionally and `gcn_model` using our robust training procedure.   \n",
    "Later we compare their classification performances and robustness properties."
   ]
  },
  {
   "cell_type": "code",
   "execution_count": 5,
   "metadata": {},
   "outputs": [],
   "source": [
    "gcn_model_normal = RobustGCNModel(A, [D]+hidden_sizes).cuda()"
   ]
  },
  {
   "cell_type": "code",
   "execution_count": 6,
   "metadata": {},
   "outputs": [],
   "source": [
    "gcn_model = RobustGCNModel(A, [D]+hidden_sizes).cuda()"
   ]
  },
  {
   "cell_type": "markdown",
   "metadata": {},
   "source": [
    "Train with traditional optimization."
   ]
  },
  {
   "cell_type": "code",
   "execution_count": 7,
   "metadata": {},
   "outputs": [
    {
     "name": "stderr",
     "output_type": "stream",
     "text": [
      "100%|██████████| 250/250 [00:02<00:00, 120.73it/s]\n"
     ]
    }
   ],
   "source": [
    "train(gcn_model_normal, X_t.cuda(), y_t, idx_train, idx_unlabeled, q=q,\n",
    "                 Q=Q, method=\"Normal\", batch_size=batch_size, n_iters=250)"
   ]
  },
  {
   "cell_type": "code",
   "execution_count": 8,
   "metadata": {},
   "outputs": [
    {
     "name": "stdout",
     "output_type": "stream",
     "text": [
      "67.92% of test nodes are correctly classified with normal training.\n"
     ]
    }
   ],
   "source": [
    "predictions_test = gcn_model_normal.predict(X_t.to_dense().cuda(), idx_test)\n",
    "test_accuracy = (predictions_test == y_t[idx_test].cpu()).float().mean().numpy()\n",
    "print(f\"{np.round(test_accuracy*100,2)}% of test nodes are correctly classified with normal training.\")"
   ]
  },
  {
   "cell_type": "code",
   "execution_count": 9,
   "metadata": {},
   "outputs": [],
   "source": [
    "torch.cuda.empty_cache()"
   ]
  },
  {
   "cell_type": "code",
   "execution_count": 10,
   "metadata": {},
   "outputs": [
    {
     "name": "stderr",
     "output_type": "stream",
     "text": [
      "100%|██████████| 414/414 [00:16<00:00, 24.81it/s]"
     ]
    },
    {
     "name": "stdout",
     "output_type": "stream",
     "text": [
      "17.42% of nodes are certifiably robust for 12 perturbations after normal training.\n"
     ]
    },
    {
     "name": "stderr",
     "output_type": "stream",
     "text": [
      "\n"
     ]
    }
   ],
   "source": [
    "robust_at_Q = certify(gcn_model_normal, X.astype(\"float32\"), q, \n",
    "                      optimize_omega=False, Q=Q, \n",
    "                      batch_size=batch_size, \n",
    "                      certify_nonrobustness=False,\n",
    "                      progress=True)[0].mean()\n",
    "print(f\"{np.round(robust_at_Q * 100, 2)}% of nodes are certifiably robust for {Q} perturbations after normal training.\")"
   ]
  },
  {
   "cell_type": "markdown",
   "metadata": {},
   "source": [
    "Robustness certification for $Q \\in \\{1,5,10,12,15,25,35,50\\}$"
   ]
  },
  {
   "cell_type": "code",
   "execution_count": 11,
   "metadata": {},
   "outputs": [
    {
     "name": "stderr",
     "output_type": "stream",
     "text": [
      "  0%|          | 2/414 [00:00<00:20, 19.96it/s]"
     ]
    },
    {
     "name": "stdout",
     "output_type": "stream",
     "text": [
      "1\n"
     ]
    },
    {
     "name": "stderr",
     "output_type": "stream",
     "text": [
      "100%|██████████| 414/414 [00:21<00:00, 19.19it/s]\n",
      "  0%|          | 2/414 [00:00<00:26, 15.42it/s]"
     ]
    },
    {
     "name": "stdout",
     "output_type": "stream",
     "text": [
      "5\n"
     ]
    },
    {
     "name": "stderr",
     "output_type": "stream",
     "text": [
      "100%|██████████| 414/414 [00:26<00:00, 15.93it/s]\n",
      "  0%|          | 2/414 [00:00<00:27, 14.88it/s]"
     ]
    },
    {
     "name": "stdout",
     "output_type": "stream",
     "text": [
      "10\n"
     ]
    },
    {
     "name": "stderr",
     "output_type": "stream",
     "text": [
      "100%|██████████| 414/414 [00:31<00:00, 14.40it/s]\n",
      "  0%|          | 2/414 [00:00<00:28, 14.49it/s]"
     ]
    },
    {
     "name": "stdout",
     "output_type": "stream",
     "text": [
      "12\n"
     ]
    },
    {
     "name": "stderr",
     "output_type": "stream",
     "text": [
      "100%|██████████| 414/414 [00:31<00:00, 13.09it/s]\n",
      "  0%|          | 2/414 [00:00<00:29, 14.13it/s]"
     ]
    },
    {
     "name": "stdout",
     "output_type": "stream",
     "text": [
      "15\n"
     ]
    },
    {
     "name": "stderr",
     "output_type": "stream",
     "text": [
      "100%|██████████| 414/414 [00:32<00:00, 12.82it/s]\n",
      "  0%|          | 0/414 [00:00<?, ?it/s]"
     ]
    },
    {
     "name": "stdout",
     "output_type": "stream",
     "text": [
      "25\n"
     ]
    },
    {
     "name": "stderr",
     "output_type": "stream",
     "text": [
      "100%|██████████| 414/414 [00:33<00:00, 12.10it/s]\n",
      "  0%|          | 0/414 [00:00<?, ?it/s]"
     ]
    },
    {
     "name": "stdout",
     "output_type": "stream",
     "text": [
      "35\n"
     ]
    },
    {
     "name": "stderr",
     "output_type": "stream",
     "text": [
      "100%|██████████| 414/414 [00:33<00:00, 11.93it/s]\n",
      "  0%|          | 0/414 [00:00<?, ?it/s]"
     ]
    },
    {
     "name": "stdout",
     "output_type": "stream",
     "text": [
      "50\n"
     ]
    },
    {
     "name": "stderr",
     "output_type": "stream",
     "text": [
      "100%|██████████| 414/414 [00:33<00:00, 12.37it/s]\n"
     ]
    }
   ],
   "source": [
    "certifiable_nodes_normal = []\n",
    "\n",
    "Q_range = [1,5,10,12,15, 25, 35, 50]\n",
    "for _Q in Q_range:\n",
    "    print(_Q)\n",
    "    certifiable_nodes_normal.append(certify(gcn_model_normal, X.astype(\"float32\"), q, \n",
    "                                    optimize_omega=False, \n",
    "                                    Q=int(_Q), batch_size=batch_size, \n",
    "                                    certify_nonrobustness=True,\n",
    "                                    progress=True))"
   ]
  },
  {
   "cell_type": "code",
   "execution_count": 12,
   "metadata": {},
   "outputs": [],
   "source": [
    "robust_normal = np.array([x[0] for x in certifiable_nodes_normal])\n",
    "nonrobust_normal = np.array([x[1] for x in certifiable_nodes_normal])"
   ]
  },
  {
   "cell_type": "markdown",
   "metadata": {},
   "source": [
    "Repeat the previous steps for the model that is trained with our robust training procedure."
   ]
  },
  {
   "cell_type": "code",
   "execution_count": 13,
   "metadata": {},
   "outputs": [
    {
     "name": "stderr",
     "output_type": "stream",
     "text": [
      "100%|██████████| 1000/1000 [04:24<00:00,  3.16it/s]\n"
     ]
    }
   ],
   "source": [
    "train(gcn_model, X_t.cuda(), y_t, idx_train, idx_unlabeled, q=q, Q=Q, method=\"Robust Hinge U\",\n",
    "      burn_in=100, batch_size=batch_size, n_iters=1000, margin_iters=5)"
   ]
  },
  {
   "cell_type": "code",
   "execution_count": 14,
   "metadata": {},
   "outputs": [
    {
     "name": "stdout",
     "output_type": "stream",
     "text": [
      "68.91% of test nodes are correctly classified after robust training.\n"
     ]
    }
   ],
   "source": [
    "predictions_test = gcn_model.predict(X_t.to_dense().cuda(), idx_test)\n",
    "test_accuracy = (predictions_test == y_t[idx_test].cpu()).float().mean().numpy()\n",
    "print(f\"{np.round(test_accuracy*100,2)}% of test nodes are correctly classified after robust training.\")"
   ]
  },
  {
   "cell_type": "code",
   "execution_count": 15,
   "metadata": {},
   "outputs": [
    {
     "name": "stderr",
     "output_type": "stream",
     "text": [
      "100%|██████████| 414/414 [00:16<00:00, 24.40it/s]"
     ]
    },
    {
     "name": "stdout",
     "output_type": "stream",
     "text": [
      "81.52% of nodes are certifiably robust for 12 perturbations after robust training.\n"
     ]
    },
    {
     "name": "stderr",
     "output_type": "stream",
     "text": [
      "\n"
     ]
    }
   ],
   "source": [
    "robust_at_Q = certify(gcn_model, X.astype(\"float32\"), q, \n",
    "                      optimize_omega=False, Q=Q, \n",
    "                      batch_size=batch_size, \n",
    "                      certify_nonrobustness=False,\n",
    "                      progress=True)[0].mean()\n",
    "print(f\"{np.round(robust_at_Q * 100, 2)}% of nodes are certifiably robust for {Q} perturbations after robust training.\")"
   ]
  },
  {
   "cell_type": "code",
   "execution_count": 16,
   "metadata": {},
   "outputs": [
    {
     "name": "stderr",
     "output_type": "stream",
     "text": [
      "  1%|          | 3/414 [00:00<00:17, 23.02it/s]"
     ]
    },
    {
     "name": "stdout",
     "output_type": "stream",
     "text": [
      "1\n"
     ]
    },
    {
     "name": "stderr",
     "output_type": "stream",
     "text": [
      "100%|██████████| 414/414 [00:19<00:00, 21.38it/s]\n",
      "  1%|          | 3/414 [00:00<00:17, 23.37it/s]"
     ]
    },
    {
     "name": "stdout",
     "output_type": "stream",
     "text": [
      "5\n"
     ]
    },
    {
     "name": "stderr",
     "output_type": "stream",
     "text": [
      "100%|██████████| 414/414 [00:20<00:00, 20.54it/s]\n",
      "  1%|          | 3/414 [00:00<00:19, 21.04it/s]"
     ]
    },
    {
     "name": "stdout",
     "output_type": "stream",
     "text": [
      "10\n"
     ]
    },
    {
     "name": "stderr",
     "output_type": "stream",
     "text": [
      "100%|██████████| 414/414 [00:21<00:00, 19.51it/s]\n",
      "  0%|          | 2/414 [00:00<00:20, 19.78it/s]"
     ]
    },
    {
     "name": "stdout",
     "output_type": "stream",
     "text": [
      "12\n"
     ]
    },
    {
     "name": "stderr",
     "output_type": "stream",
     "text": [
      "100%|██████████| 414/414 [00:22<00:00, 19.83it/s]\n",
      "  0%|          | 2/414 [00:00<00:24, 16.49it/s]"
     ]
    },
    {
     "name": "stdout",
     "output_type": "stream",
     "text": [
      "15\n"
     ]
    },
    {
     "name": "stderr",
     "output_type": "stream",
     "text": [
      "100%|██████████| 414/414 [00:26<00:00, 16.52it/s]\n",
      "  0%|          | 2/414 [00:00<00:28, 14.33it/s]"
     ]
    },
    {
     "name": "stdout",
     "output_type": "stream",
     "text": [
      "25\n"
     ]
    },
    {
     "name": "stderr",
     "output_type": "stream",
     "text": [
      "100%|██████████| 414/414 [00:31<00:00, 13.85it/s]\n",
      "  0%|          | 2/414 [00:00<00:31, 13.27it/s]"
     ]
    },
    {
     "name": "stdout",
     "output_type": "stream",
     "text": [
      "35\n"
     ]
    },
    {
     "name": "stderr",
     "output_type": "stream",
     "text": [
      "100%|██████████| 414/414 [00:32<00:00, 13.54it/s]\n",
      "  0%|          | 2/414 [00:00<00:31, 12.96it/s]"
     ]
    },
    {
     "name": "stdout",
     "output_type": "stream",
     "text": [
      "50\n"
     ]
    },
    {
     "name": "stderr",
     "output_type": "stream",
     "text": [
      "100%|██████████| 414/414 [00:33<00:00, 11.94it/s]\n"
     ]
    }
   ],
   "source": [
    "certifiable_nodes = []\n",
    "\n",
    "Q_range = [1,5,10,12,15, 25, 35, 50]\n",
    "for _Q in Q_range:\n",
    "    print(_Q)\n",
    "    certifiable_nodes.append(certify(gcn_model, X.astype(\"float32\"), q, \n",
    "                                     optimize_omega=False, \n",
    "                                     Q=int(_Q), batch_size=batch_size, \n",
    "                                     certify_nonrobustness=True,\n",
    "                                     progress=True))"
   ]
  },
  {
   "cell_type": "code",
   "execution_count": 17,
   "metadata": {},
   "outputs": [],
   "source": [
    "robust = np.array([x[0] for x in certifiable_nodes])\n",
    "nonrobust = np.array([x[1] for x in certifiable_nodes])"
   ]
  },
  {
   "cell_type": "markdown",
   "metadata": {},
   "source": [
    "### Visualize results"
   ]
  },
  {
   "cell_type": "code",
   "execution_count": 18,
   "metadata": {},
   "outputs": [
    {
     "data": {
      "image/png": "[encoded data removed]",
      "text/plain": [
       "<Figure size 432x288 with 1 Axes>"
      ]
     },
     "metadata": {
      "needs_background": "light"
     },
     "output_type": "display_data"
    }
   ],
   "source": [
    "plt.plot(Q_range, 100*robust_normal.mean(1), linewidth=3, color=\"grey\", linestyle=\"--\", label=\"Standard training\")\n",
    "plt.plot(Q_range, 100*(1-nonrobust_normal.mean(1)), linewidth=3, color=\"grey\", linestyle=\"--\")\n",
    "\n",
    "plt.plot(Q_range, 100*(robust.mean(1)), linewidth=3)\n",
    "plt.fill_between(Q_range, 0, 100*robust.mean(1), alpha=0.2, label=\"Certifiably robust\")\n",
    "plt.plot(Q_range, 100*(1-nonrobust.mean(1)), linewidth=3)\n",
    "plt.fill_between(Q_range, 100, 100*(1-nonrobust.mean(1)), where=nonrobust.mean() <= 1,\n",
    "                alpha=0.2, label=\"Certifiably nonrobust\")\n",
    "plt.xlabel(\"Number of perturbations\", fontsize=14)\n",
    "plt.ylabel(\"% certifiable nodes\", fontsize=14)\n",
    "\n",
    "ax = plt.gca()\n",
    "ax.tick_params(axis='both', which='major', labelsize=14)\n",
    "plt.ylim((-3,103))\n",
    "plt.legend(fontsize=14)\n",
    "plt.show()"
   ]
  },
  {
   "cell_type": "code",
   "execution_count": null,
   "metadata": {},
   "outputs": [],
   "source": []
  }
 ],
 "metadata": {
  "kernelspec": {
   "display_name": "Python 3",
   "language": "python",
   "name": "python3"
  },
  "language_info": {
   "codemirror_mode": {
    "name": "ipython",
    "version": 3
   },
   "file_extension": ".py",
   "mimetype": "text/x-python",
   "name": "python",
   "nbconvert_exporter": "python",
   "pygments_lexer": "ipython3",
   "version": "3.6.8"
  }
 },
 "nbformat": 4,
 "nbformat_minor": 2
}
